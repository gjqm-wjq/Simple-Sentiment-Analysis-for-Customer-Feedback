{
  "cells": [
    {
      "cell_type": "markdown",
      "metadata": {
        "id": "j-IuROXj4bHv"
      },
      "source": [
        "1. You are to build a simple sentiment detector that would be able to classify a customer feedback as negative or positive. This is to allow the business to plan how they can improve their customer service.\n",
        "2. A dataset has been created from customer feedback. It contains the extracted text reviews from customers and each review is labelled with positive or negative sentiment.\n",
        "3. Complete the task as listed in the requirements below.\n",
        "4. For Jupyter Notebook, libraries declaration please use \"tensorflow.keras.xxx\". \n",
        "\n"
      ]
    },
    {
      "cell_type": "markdown",
      "metadata": {
        "id": "_vT99ODN7wz-"
      },
      "source": [
        "### Install Libraries\n",
        "\n",
        "Complete the missing import statements."
      ]
    },
    {
      "cell_type": "code",
      "execution_count": 19,
      "metadata": {
        "id": "n2evB6SX4ZZ5"
      },
      "outputs": [],
      "source": [
        "#Fill In The Missing Import Statements \n",
        "\n",
        "# import pandas\n",
        "import pandas as pd\n",
        "pd.set_option('display.max_colwidth', 200)\n",
        "\n",
        "#fill in function for train test split.\n",
        "from sklearn.model_selection import train_test_split\n",
        "\n",
        "#Use the Sequential class. \n",
        "from keras.models import Sequential\n",
        "\n",
        "#Select the correct crossentropy function for the task.\n",
        "from keras.losses import categorical_crossentropy\n",
        "from tensorflow.keras.optimizers import SGD\n",
        "from keras.layers import Dense\n",
        " \n",
        "from numpy import argmax\n",
        "import numpy as np\n",
        "import re\n",
        "\n",
        "import matplotlib.pyplot as plt\n",
        "#Use confusion matrix  and classification report from sklearn\n",
        "from sklearn.metrics import confusion_matrix\n",
        "from sklearn.metrics import classification_report"
      ]
    },
    {
      "cell_type": "markdown",
      "metadata": {
        "id": "WuS6u41w712c"
      },
      "source": [
        "## Install Data\n",
        "\n",
        "1. Load the dataset **'amazon_cells_labelled.csv'** into a Pandas Dataframe.\n",
        "\n",
        "2. Set the columns names to 'Review' and 'Sentiment'.\n"
      ]
    },
    {
      "cell_type": "code",
      "execution_count": 20,
      "metadata": {
        "id": "v-pHgv-C7rEY"
      },
      "outputs": [],
      "source": [
        "COLUMN_NAMES=['Review','Sentiment']\n",
        "\n",
        "df = pd.read_csv('amazon_cells_labelled.csv')\n"
      ]
    },
    {
      "cell_type": "markdown",
      "metadata": {
        "id": "e1C8YyUM9Qxa"
      },
      "source": [
        "## Show the first 10 rows of data"
      ]
    },
    {
      "cell_type": "code",
      "execution_count": 21,
      "metadata": {
        "colab": {
          "base_uri": "https://localhost:8080/",
          "height": 424
        },
        "id": "_cbdAJQ188Nm",
        "outputId": "176fb896-92d7-4191-a8c4-7ad112b9a36b"
      },
      "outputs": [
        {
          "data": {
            "text/html": [
              "<div>\n",
              "<style scoped>\n",
              "    .dataframe tbody tr th:only-of-type {\n",
              "        vertical-align: middle;\n",
              "    }\n",
              "\n",
              "    .dataframe tbody tr th {\n",
              "        vertical-align: top;\n",
              "    }\n",
              "\n",
              "    .dataframe thead th {\n",
              "        text-align: right;\n",
              "    }\n",
              "</style>\n",
              "<table border=\"1\" class=\"dataframe\">\n",
              "  <thead>\n",
              "    <tr style=\"text-align: right;\">\n",
              "      <th></th>\n",
              "      <th>Review</th>\n",
              "      <th>Sentiment</th>\n",
              "    </tr>\n",
              "  </thead>\n",
              "  <tbody>\n",
              "    <tr>\n",
              "      <th>0</th>\n",
              "      <td>So there is no way for me to plug it in here in the US unless I go by a converter.</td>\n",
              "      <td>0</td>\n",
              "    </tr>\n",
              "    <tr>\n",
              "      <th>1</th>\n",
              "      <td>Good case, Excellent value.</td>\n",
              "      <td>1</td>\n",
              "    </tr>\n",
              "    <tr>\n",
              "      <th>2</th>\n",
              "      <td>Great for the jawbone.</td>\n",
              "      <td>1</td>\n",
              "    </tr>\n",
              "    <tr>\n",
              "      <th>3</th>\n",
              "      <td>Tied to charger for conversations lasting more than 45 minutes.MAJOR PROBLEMS!!</td>\n",
              "      <td>0</td>\n",
              "    </tr>\n",
              "    <tr>\n",
              "      <th>4</th>\n",
              "      <td>The mic is great.</td>\n",
              "      <td>1</td>\n",
              "    </tr>\n",
              "    <tr>\n",
              "      <th>5</th>\n",
              "      <td>I have to jiggle the plug to get it to line up right to get decent volume.</td>\n",
              "      <td>0</td>\n",
              "    </tr>\n",
              "    <tr>\n",
              "      <th>6</th>\n",
              "      <td>If you have several dozen or several hundred contacts, then imagine the fun of sending each of them one by one.</td>\n",
              "      <td>0</td>\n",
              "    </tr>\n",
              "    <tr>\n",
              "      <th>7</th>\n",
              "      <td>If you are Razr owner...you must have this!</td>\n",
              "      <td>1</td>\n",
              "    </tr>\n",
              "    <tr>\n",
              "      <th>8</th>\n",
              "      <td>Needless to say, I wasted my money.</td>\n",
              "      <td>0</td>\n",
              "    </tr>\n",
              "    <tr>\n",
              "      <th>9</th>\n",
              "      <td>What a waste of money and time!.</td>\n",
              "      <td>0</td>\n",
              "    </tr>\n",
              "  </tbody>\n",
              "</table>\n",
              "</div>"
            ],
            "text/plain": [
              "                                                                                                            Review  \\\n",
              "0                               So there is no way for me to plug it in here in the US unless I go by a converter.   \n",
              "1                                                                                      Good case, Excellent value.   \n",
              "2                                                                                           Great for the jawbone.   \n",
              "3                                  Tied to charger for conversations lasting more than 45 minutes.MAJOR PROBLEMS!!   \n",
              "4                                                                                                The mic is great.   \n",
              "5                                       I have to jiggle the plug to get it to line up right to get decent volume.   \n",
              "6  If you have several dozen or several hundred contacts, then imagine the fun of sending each of them one by one.   \n",
              "7                                                                      If you are Razr owner...you must have this!   \n",
              "8                                                                              Needless to say, I wasted my money.   \n",
              "9                                                                                 What a waste of money and time!.   \n",
              "\n",
              "   Sentiment  \n",
              "0          0  \n",
              "1          1  \n",
              "2          1  \n",
              "3          0  \n",
              "4          1  \n",
              "5          0  \n",
              "6          0  \n",
              "7          1  \n",
              "8          0  \n",
              "9          0  "
            ]
          },
          "execution_count": 21,
          "metadata": {},
          "output_type": "execute_result"
        }
      ],
      "source": [
        "#fill in answer\n",
        "\n",
        "df.head(10)"
      ]
    },
    {
      "cell_type": "markdown",
      "metadata": {
        "id": "gkvpmytr9H5A"
      },
      "source": [
        "## Show count of each sentiment types"
      ]
    },
    {
      "cell_type": "code",
      "execution_count": 22,
      "metadata": {
        "colab": {
          "base_uri": "https://localhost:8080/"
        },
        "id": "MKm3D7nf9Avk",
        "outputId": "3155465a-75c6-4aee-9d65-fdeb5e701ace"
      },
      "outputs": [
        {
          "data": {
            "text/plain": [
              "Sentiment\n",
              "0    500\n",
              "1    500\n",
              "Name: count, dtype: int64"
            ]
          },
          "execution_count": 22,
          "metadata": {},
          "output_type": "execute_result"
        }
      ],
      "source": [
        "#fill in answer\n",
        "\n",
        "df['Sentiment'].value_counts()"
      ]
    },
    {
      "cell_type": "markdown",
      "metadata": {
        "id": "p1KpJpAb9mGs"
      },
      "source": [
        "## Define the classes\n",
        "\n",
        "1. Assign amazon_reviews's sentiment count to a panda series object called 'amazon_counts'\n",
        "\n",
        "2.  Change 'amazon_counts' index from 0 to 'Negative' and 1 to 'Positive'."
      ]
    },
    {
      "cell_type": "code",
      "execution_count": 23,
      "metadata": {
        "colab": {
          "base_uri": "https://localhost:8080/",
          "height": 112
        },
        "id": "MJy61gv79l1O",
        "outputId": "177046c2-2649-44e8-c167-eb53f5ca8fcc"
      },
      "outputs": [
        {
          "name": "stdout",
          "output_type": "stream",
          "text": [
            "Negative    0\n",
            "Positive    1\n",
            "Name: amazon_counts, dtype: int64\n"
          ]
        }
      ],
      "source": [
        "df_counts = df['Sentiment'].value_counts().to_frame()\n",
        "df_series = pd.Series(df_counts.index, index=['Negative', 'Positive'], name='amazon_counts')\n",
        "\n",
        "print(df_series)"
      ]
    },
    {
      "cell_type": "markdown",
      "metadata": {},
      "source": [
        "## Create a **clean()** function to do the following preprocessing:\n",
        "\n",
        "1. Use regex sub() function to match any non-word character and substitute with empty string ' '.\n",
        "2. For a given text, replace: \n",
        "    * 'don't' with 'do not'\n",
        "    * 'won't' with 'will not'\n"
      ]
    },
    {
      "cell_type": "code",
      "execution_count": 24,
      "metadata": {},
      "outputs": [],
      "source": [
        "\n",
        "def clean(text):\n",
        "    cleaned_text = str(text).lower()\n",
        "    cleaned_text = re.sub(r'\\d', ' ', cleaned_text)\n",
        "    cleaned_text = re.sub(r'\\W', ' ', cleaned_text)\n",
        "    cleaned_text = cleaned_text.replace(\"don't\", \"do not\")\n",
        "    cleaned_text = cleaned_text.replace(\"won't\", \"will not\")\n",
        "    cleaned_text = cleaned_text.strip()\n",
        "    cleaned_text = ' '.join(cleaned_text.split())\n",
        "    return cleaned_text"
      ]
    },
    {
      "cell_type": "code",
      "execution_count": 25,
      "metadata": {},
      "outputs": [
        {
          "data": {
            "text/plain": [
              "0                                so there is no way for me to plug it in here in the us unless i go by a converter\n",
              "1                                                                                        good case excellent value\n",
              "2                                                                                            great for the jawbone\n",
              "3                                       tied to charger for conversations lasting more than minutes major problems\n",
              "4                                                                                                 the mic is great\n",
              "5                                        i have to jiggle the plug to get it to line up right to get decent volume\n",
              "6    if you have several dozen or several hundred contacts then imagine the fun of sending each of them one by one\n",
              "7                                                                         if you are razr owner you must have this\n",
              "8                                                                                needless to say i wasted my money\n",
              "9                                                                                   what a waste of money and time\n",
              "Name: Review, dtype: object"
            ]
          },
          "execution_count": 25,
          "metadata": {},
          "output_type": "execute_result"
        }
      ],
      "source": [
        "df['Review'] = df['Review'].apply(clean)\n",
        "df['Review'].head(10)"
      ]
    },
    {
      "cell_type": "markdown",
      "metadata": {
        "id": "MTZ8z6XsfkQl"
      },
      "source": [
        "## Assign X to 'Reviews' of amazon_reviews. And Y to 'Sentiment' of amazon_reviews."
      ]
    },
    {
      "cell_type": "code",
      "execution_count": 26,
      "metadata": {
        "id": "fFLIg4j9FUGW"
      },
      "outputs": [],
      "source": [
        "X= df['Review']\n",
        "Y= df['Sentiment']"
      ]
    },
    {
      "cell_type": "markdown",
      "metadata": {
        "id": "nLUD__Oyfv6a"
      },
      "source": [
        "## Create the vocabulary of the dataset. "
      ]
    },
    {
      "cell_type": "code",
      "execution_count": 27,
      "metadata": {
        "id": "DZHbgXU9F_OD"
      },
      "outputs": [],
      "source": [
        "vocabulary = set()\n",
        "for data_point in X:\n",
        "    words = data_point.split()\n",
        "    vocabulary.update(words)\n",
        "\n",
        "vocabulary = list(vocabulary)"
      ]
    },
    {
      "cell_type": "markdown",
      "metadata": {
        "id": "4S2awDRUgBSe"
      },
      "source": [
        "## Show the first 5 vocabulary."
      ]
    },
    {
      "cell_type": "code",
      "execution_count": 28,
      "metadata": {
        "colab": {
          "base_uri": "https://localhost:8080/"
        },
        "id": "LsOHP-WDLywu",
        "outputId": "870be433-9ad8-40e3-ab79-42377f589d9f"
      },
      "outputs": [
        {
          "name": "stdout",
          "output_type": "stream",
          "text": [
            "['dozen', 'shouting', 'gentle', 'wild', 'imac']\n"
          ]
        }
      ],
      "source": [
        "#fill in answer\n",
        "\n",
        "print(vocabulary[:5])"
      ]
    },
    {
      "cell_type": "code",
      "execution_count": 29,
      "metadata": {
        "colab": {
          "base_uri": "https://localhost:8080/"
        },
        "id": "1wQn5HlpGbvW",
        "outputId": "0c2fe0e9-7f5c-4a58-8c5e-c1ac72ea2af5"
      },
      "outputs": [
        {
          "data": {
            "text/plain": [
              "1812"
            ]
          },
          "execution_count": 29,
          "metadata": {},
          "output_type": "execute_result"
        }
      ],
      "source": [
        "len(vocabulary)"
      ]
    },
    {
      "cell_type": "markdown",
      "metadata": {
        "id": "P1UQuGkbEmvq"
      },
      "source": [
        "## Create Document Vectors"
      ]
    },
    {
      "cell_type": "code",
      "execution_count": 30,
      "metadata": {
        "id": "-omvAzASEo4a"
      },
      "outputs": [],
      "source": [
        "from sklearn.feature_extraction.text import TfidfVectorizer\n",
        "\n",
        "vectorizer = TfidfVectorizer()\n",
        "\n",
        "X_encoded = vectorizer.fit_transform(X).toarray()"
      ]
    },
    {
      "cell_type": "code",
      "execution_count": 31,
      "metadata": {
        "colab": {
          "base_uri": "https://localhost:8080/"
        },
        "id": "FVT6ssBLGPXL",
        "outputId": "b94c2db1-29ef-4aec-a97f-a6a3a6795627"
      },
      "outputs": [
        {
          "data": {
            "text/plain": [
              "1000"
            ]
          },
          "execution_count": 31,
          "metadata": {},
          "output_type": "execute_result"
        }
      ],
      "source": [
        "len(X_encoded)"
      ]
    },
    {
      "cell_type": "code",
      "execution_count": 32,
      "metadata": {
        "id": "QJ_FmxVIEo1S"
      },
      "outputs": [],
      "source": [
        "Y_encoded = pd.get_dummies(Y).values"
      ]
    },
    {
      "cell_type": "markdown",
      "metadata": {
        "id": "v4T9sv_xEzc_"
      },
      "source": [
        "## Split into train, test sets. 70% for training, 30% for testing. \n",
        "\n",
        "1. Use the train_test_split() function. "
      ]
    },
    {
      "cell_type": "code",
      "execution_count": 33,
      "metadata": {
        "id": "XXzOJ1CgEtbH"
      },
      "outputs": [],
      "source": [
        "X_train, X_test, y_train, y_test = train_test_split(X_encoded, Y_encoded, test_size=0.3, random_state=42)"
      ]
    },
    {
      "cell_type": "code",
      "execution_count": 35,
      "metadata": {
        "colab": {
          "base_uri": "https://localhost:8080/"
        },
        "id": "1ZRIgwhdEtYx",
        "outputId": "cf042d56-fb08-4209-ade1-0ff5c0a8a84e"
      },
      "outputs": [
        {
          "name": "stdout",
          "output_type": "stream",
          "text": [
            "Epoch 1/60\n"
          ]
        },
        {
          "name": "stderr",
          "output_type": "stream",
          "text": [
            "c:\\Users\\gohji\\anaconda3\\envs\\nlpe\\lib\\site-packages\\keras\\optimizers\\optimizer_v2\\gradient_descent.py:111: UserWarning: The `lr` argument is deprecated, use `learning_rate` instead.\n",
            "  super().__init__(name, **kwargs)\n"
          ]
        },
        {
          "name": "stdout",
          "output_type": "stream",
          "text": [
            "44/44 [==============================] - 1s 11ms/step - loss: 0.6913 - accuracy: 0.5243 - val_loss: 0.6870 - val_accuracy: 0.6133\n",
            "Epoch 2/60\n",
            "44/44 [==============================] - 0s 4ms/step - loss: 0.6803 - accuracy: 0.6229 - val_loss: 0.6785 - val_accuracy: 0.6433\n",
            "Epoch 3/60\n",
            "44/44 [==============================] - 0s 4ms/step - loss: 0.6672 - accuracy: 0.6786 - val_loss: 0.6652 - val_accuracy: 0.7067\n",
            "Epoch 4/60\n",
            "44/44 [==============================] - 0s 4ms/step - loss: 0.6471 - accuracy: 0.7814 - val_loss: 0.6487 - val_accuracy: 0.7400\n",
            "Epoch 5/60\n",
            "44/44 [==============================] - 0s 4ms/step - loss: 0.6218 - accuracy: 0.8357 - val_loss: 0.6284 - val_accuracy: 0.7333\n",
            "Epoch 6/60\n",
            "44/44 [==============================] - 0s 4ms/step - loss: 0.5937 - accuracy: 0.8286 - val_loss: 0.6007 - val_accuracy: 0.8000\n",
            "Epoch 7/60\n",
            "44/44 [==============================] - 0s 4ms/step - loss: 0.5589 - accuracy: 0.8686 - val_loss: 0.5785 - val_accuracy: 0.7367\n",
            "Epoch 8/60\n",
            "44/44 [==============================] - 0s 4ms/step - loss: 0.5218 - accuracy: 0.8643 - val_loss: 0.5452 - val_accuracy: 0.7833\n",
            "Epoch 9/60\n",
            "44/44 [==============================] - 0s 4ms/step - loss: 0.4803 - accuracy: 0.8643 - val_loss: 0.5212 - val_accuracy: 0.8067\n",
            "Epoch 10/60\n",
            "44/44 [==============================] - 0s 4ms/step - loss: 0.4418 - accuracy: 0.8943 - val_loss: 0.5015 - val_accuracy: 0.7867\n",
            "Epoch 11/60\n",
            "44/44 [==============================] - 0s 4ms/step - loss: 0.4059 - accuracy: 0.9114 - val_loss: 0.4666 - val_accuracy: 0.8167\n",
            "Epoch 12/60\n",
            "44/44 [==============================] - 0s 4ms/step - loss: 0.3708 - accuracy: 0.9029 - val_loss: 0.4466 - val_accuracy: 0.8067\n",
            "Epoch 13/60\n",
            "44/44 [==============================] - 0s 4ms/step - loss: 0.3390 - accuracy: 0.9243 - val_loss: 0.4287 - val_accuracy: 0.8133\n",
            "Epoch 14/60\n",
            "44/44 [==============================] - 0s 4ms/step - loss: 0.3068 - accuracy: 0.9486 - val_loss: 0.4130 - val_accuracy: 0.8167\n",
            "Epoch 15/60\n",
            "44/44 [==============================] - 0s 5ms/step - loss: 0.2826 - accuracy: 0.9443 - val_loss: 0.4061 - val_accuracy: 0.8133\n",
            "Epoch 16/60\n",
            "44/44 [==============================] - 0s 4ms/step - loss: 0.2567 - accuracy: 0.9657 - val_loss: 0.3930 - val_accuracy: 0.8133\n",
            "Epoch 17/60\n",
            "44/44 [==============================] - 0s 4ms/step - loss: 0.2326 - accuracy: 0.9729 - val_loss: 0.3849 - val_accuracy: 0.8167\n",
            "Epoch 18/60\n",
            "44/44 [==============================] - 0s 5ms/step - loss: 0.2121 - accuracy: 0.9786 - val_loss: 0.3875 - val_accuracy: 0.8167\n",
            "Epoch 19/60\n",
            "44/44 [==============================] - 0s 4ms/step - loss: 0.1961 - accuracy: 0.9786 - val_loss: 0.3740 - val_accuracy: 0.8233\n",
            "Epoch 20/60\n",
            "44/44 [==============================] - 0s 4ms/step - loss: 0.1779 - accuracy: 0.9857 - val_loss: 0.3632 - val_accuracy: 0.8333\n",
            "Epoch 21/60\n",
            "44/44 [==============================] - 0s 4ms/step - loss: 0.1610 - accuracy: 0.9871 - val_loss: 0.3675 - val_accuracy: 0.8167\n",
            "Epoch 22/60\n",
            "44/44 [==============================] - 0s 4ms/step - loss: 0.1494 - accuracy: 0.9900 - val_loss: 0.3579 - val_accuracy: 0.8233\n",
            "Epoch 23/60\n",
            "44/44 [==============================] - 0s 4ms/step - loss: 0.1360 - accuracy: 0.9929 - val_loss: 0.3551 - val_accuracy: 0.8233\n",
            "Epoch 24/60\n",
            "44/44 [==============================] - 0s 4ms/step - loss: 0.1254 - accuracy: 0.9929 - val_loss: 0.3499 - val_accuracy: 0.8333\n",
            "Epoch 25/60\n",
            "44/44 [==============================] - 0s 4ms/step - loss: 0.1153 - accuracy: 0.9914 - val_loss: 0.3497 - val_accuracy: 0.8400\n",
            "Epoch 26/60\n",
            "44/44 [==============================] - 0s 4ms/step - loss: 0.1071 - accuracy: 0.9971 - val_loss: 0.3471 - val_accuracy: 0.8367\n",
            "Epoch 27/60\n",
            "44/44 [==============================] - 0s 4ms/step - loss: 0.0987 - accuracy: 0.9971 - val_loss: 0.3489 - val_accuracy: 0.8267\n",
            "Epoch 28/60\n",
            "44/44 [==============================] - 0s 4ms/step - loss: 0.0912 - accuracy: 0.9986 - val_loss: 0.3451 - val_accuracy: 0.8400\n",
            "Epoch 29/60\n",
            "44/44 [==============================] - 0s 4ms/step - loss: 0.0843 - accuracy: 0.9986 - val_loss: 0.3455 - val_accuracy: 0.8367\n",
            "Epoch 30/60\n",
            "44/44 [==============================] - 0s 4ms/step - loss: 0.0795 - accuracy: 0.9971 - val_loss: 0.3454 - val_accuracy: 0.8267\n",
            "Epoch 31/60\n",
            "44/44 [==============================] - 0s 4ms/step - loss: 0.0733 - accuracy: 0.9986 - val_loss: 0.3440 - val_accuracy: 0.8333\n",
            "Epoch 32/60\n",
            "44/44 [==============================] - 0s 4ms/step - loss: 0.0686 - accuracy: 1.0000 - val_loss: 0.3440 - val_accuracy: 0.8400\n",
            "Epoch 33/60\n",
            "44/44 [==============================] - 0s 4ms/step - loss: 0.0632 - accuracy: 1.0000 - val_loss: 0.3483 - val_accuracy: 0.8233\n",
            "Epoch 34/60\n",
            "44/44 [==============================] - 0s 5ms/step - loss: 0.0593 - accuracy: 1.0000 - val_loss: 0.3469 - val_accuracy: 0.8233\n",
            "Epoch 35/60\n",
            "44/44 [==============================] - 0s 4ms/step - loss: 0.0561 - accuracy: 1.0000 - val_loss: 0.3444 - val_accuracy: 0.8300\n",
            "Epoch 36/60\n",
            "44/44 [==============================] - 0s 4ms/step - loss: 0.0524 - accuracy: 1.0000 - val_loss: 0.3449 - val_accuracy: 0.8367\n",
            "Epoch 37/60\n",
            "44/44 [==============================] - 0s 4ms/step - loss: 0.0498 - accuracy: 1.0000 - val_loss: 0.3477 - val_accuracy: 0.8233\n",
            "Epoch 38/60\n",
            "44/44 [==============================] - 0s 5ms/step - loss: 0.0472 - accuracy: 1.0000 - val_loss: 0.3461 - val_accuracy: 0.8433\n",
            "Epoch 39/60\n",
            "44/44 [==============================] - 0s 4ms/step - loss: 0.0451 - accuracy: 1.0000 - val_loss: 0.3468 - val_accuracy: 0.8333\n",
            "Epoch 40/60\n",
            "44/44 [==============================] - 0s 5ms/step - loss: 0.0421 - accuracy: 1.0000 - val_loss: 0.3476 - val_accuracy: 0.8333\n",
            "Epoch 41/60\n",
            "44/44 [==============================] - 0s 4ms/step - loss: 0.0397 - accuracy: 1.0000 - val_loss: 0.3480 - val_accuracy: 0.8400\n",
            "Epoch 42/60\n",
            "44/44 [==============================] - 0s 4ms/step - loss: 0.0379 - accuracy: 1.0000 - val_loss: 0.3501 - val_accuracy: 0.8267\n",
            "Epoch 43/60\n",
            "44/44 [==============================] - 0s 4ms/step - loss: 0.0357 - accuracy: 1.0000 - val_loss: 0.3634 - val_accuracy: 0.8200\n",
            "Epoch 44/60\n",
            "44/44 [==============================] - 0s 4ms/step - loss: 0.0350 - accuracy: 1.0000 - val_loss: 0.3511 - val_accuracy: 0.8267\n",
            "Epoch 45/60\n",
            "44/44 [==============================] - 0s 4ms/step - loss: 0.0326 - accuracy: 1.0000 - val_loss: 0.3503 - val_accuracy: 0.8433\n",
            "Epoch 46/60\n",
            "44/44 [==============================] - 0s 4ms/step - loss: 0.0314 - accuracy: 1.0000 - val_loss: 0.3515 - val_accuracy: 0.8367\n",
            "Epoch 47/60\n",
            "44/44 [==============================] - 0s 4ms/step - loss: 0.0300 - accuracy: 1.0000 - val_loss: 0.3521 - val_accuracy: 0.8300\n",
            "Epoch 48/60\n",
            "44/44 [==============================] - 0s 4ms/step - loss: 0.0286 - accuracy: 1.0000 - val_loss: 0.3529 - val_accuracy: 0.8333\n",
            "Epoch 49/60\n",
            "44/44 [==============================] - 0s 4ms/step - loss: 0.0276 - accuracy: 1.0000 - val_loss: 0.3547 - val_accuracy: 0.8300\n",
            "Epoch 50/60\n",
            "44/44 [==============================] - 0s 4ms/step - loss: 0.0266 - accuracy: 1.0000 - val_loss: 0.3572 - val_accuracy: 0.8200\n",
            "Epoch 51/60\n",
            "44/44 [==============================] - 0s 4ms/step - loss: 0.0256 - accuracy: 1.0000 - val_loss: 0.3563 - val_accuracy: 0.8267\n",
            "Epoch 52/60\n",
            "44/44 [==============================] - 0s 4ms/step - loss: 0.0245 - accuracy: 1.0000 - val_loss: 0.3561 - val_accuracy: 0.8333\n",
            "Epoch 53/60\n",
            "44/44 [==============================] - 0s 4ms/step - loss: 0.0235 - accuracy: 1.0000 - val_loss: 0.3574 - val_accuracy: 0.8300\n",
            "Epoch 54/60\n",
            "44/44 [==============================] - 0s 4ms/step - loss: 0.0227 - accuracy: 1.0000 - val_loss: 0.3599 - val_accuracy: 0.8200\n",
            "Epoch 55/60\n",
            "44/44 [==============================] - 0s 4ms/step - loss: 0.0219 - accuracy: 1.0000 - val_loss: 0.3582 - val_accuracy: 0.8333\n",
            "Epoch 56/60\n",
            "44/44 [==============================] - 0s 4ms/step - loss: 0.0213 - accuracy: 1.0000 - val_loss: 0.3588 - val_accuracy: 0.8333\n",
            "Epoch 57/60\n",
            "44/44 [==============================] - 0s 4ms/step - loss: 0.0203 - accuracy: 1.0000 - val_loss: 0.3703 - val_accuracy: 0.8233\n",
            "Epoch 58/60\n",
            "44/44 [==============================] - 0s 4ms/step - loss: 0.0200 - accuracy: 1.0000 - val_loss: 0.3606 - val_accuracy: 0.8367\n",
            "Epoch 59/60\n",
            "44/44 [==============================] - 0s 4ms/step - loss: 0.0193 - accuracy: 1.0000 - val_loss: 0.3618 - val_accuracy: 0.8367\n",
            "Epoch 60/60\n",
            "44/44 [==============================] - 0s 4ms/step - loss: 0.0186 - accuracy: 1.0000 - val_loss: 0.3693 - val_accuracy: 0.8167\n"
          ]
        }
      ],
      "source": [
        "num_epochs=60\n",
        "model = Sequential()\n",
        "model.add(Dense(units=64, activation='relu',\n",
        "                input_dim=X_train.shape[1]))\n",
        "\n",
        "model.add(Dense(units= 2,\n",
        "                activation='softmax'))\n",
        "model.compile(loss= 'categorical_crossentropy',\n",
        "              metrics=['accuracy'],\n",
        "              optimizer=SGD(lr=0.01,\n",
        "                            momentum=0.9, nesterov=True))\n",
        "history=model.fit(np.array(X_train), np.array(y_train), \n",
        "                  epochs=num_epochs, \n",
        "                  batch_size=16,\n",
        "                  validation_data=(X_test, y_test),\n",
        "                  verbose=1)"
      ]
    },
    {
      "cell_type": "markdown",
      "metadata": {
        "id": "12CMUFtWyr3l"
      },
      "source": [
        "## Show the learning curves\n",
        "\n",
        "1. Loss vs Epoch (training and validation)\n",
        "2. Accuracy vs Epoch (training and validation)"
      ]
    },
    {
      "cell_type": "code",
      "execution_count": 36,
      "metadata": {
        "colab": {
          "base_uri": "https://localhost:8080/",
          "height": 299
        },
        "id": "hWR8wgNPHfQd",
        "outputId": "15a4c77f-b0cd-4a96-f9a0-15d024d69bc5"
      },
      "outputs": [
        {
          "data": {
            "image/png": "[encoded data removed]",
            "text/plain": [
              "<Figure size 640x480 with 1 Axes>"
            ]
          },
          "metadata": {},
          "output_type": "display_data"
        }
      ],
      "source": [
        "def plot_graphs(H, metric):\n",
        "  plt.style.use(\"ggplot\")\n",
        "  plt.figure()\n",
        "  plt.plot(np.arange(0, num_epochs), H.history['loss'], label=\"train_loss\")\n",
        "  plt.plot(np.arange(0, num_epochs), H.history['val_loss'], label=\"val_loss\")\n",
        "  plt.plot(np.arange(0, num_epochs), H.history['accuracy'], label=\"train_acc\")\n",
        "  plt.plot(np.arange(0, num_epochs), H.history['val_accuracy'], label=\"val_acc\")\n",
        "  plt.title(\"Training Loss and Accuracy\")\n",
        "  plt.xlabel(\"Epoch #\" )\n",
        "  plt.ylabel(\"Loss/Accuracy\" )\n",
        "  plt.legend()\n",
        "  plt.savefig(\"model history\")\n",
        "  plt.show( )\n",
        "plot_graphs(history,'acc')"
      ]
    },
    {
      "cell_type": "markdown",
      "metadata": {
        "id": "cd2vmw7rgibM"
      },
      "source": [
        "## Use model to predict 'X_test'."
      ]
    },
    {
      "cell_type": "code",
      "execution_count": 37,
      "metadata": {
        "id": "19OkYT09Kq6z"
      },
      "outputs": [
        {
          "name": "stdout",
          "output_type": "stream",
          "text": [
            "10/10 [==============================] - 0s 2ms/step\n"
          ]
        }
      ],
      "source": [
        "preds = model.predict(X_test)"
      ]
    },
    {
      "cell_type": "markdown",
      "metadata": {
        "id": "nf_uFYoNgnqa"
      },
      "source": [
        "## Use argmax() to get the highest probability class label from preds. "
      ]
    },
    {
      "cell_type": "code",
      "execution_count": 38,
      "metadata": {
        "id": "KboqsFfsLLyl"
      },
      "outputs": [],
      "source": [
        "preds=[argmax(each) for each in preds]"
      ]
    },
    {
      "cell_type": "markdown",
      "metadata": {
        "id": "yCQhNAIugsM4"
      },
      "source": [
        "## Use argmax() to get the class label from y_test.\n",
        "\n"
      ]
    },
    {
      "cell_type": "code",
      "execution_count": 39,
      "metadata": {
        "id": "8gOPW9WTLY3h"
      },
      "outputs": [],
      "source": [
        "y_test_cm= [argmax(each) for each in y_test]\n"
      ]
    },
    {
      "cell_type": "markdown",
      "metadata": {
        "id": "SeHKnMY7zB6I"
      },
      "source": [
        "## Show Confusion Matrix \n",
        "\n",
        "Use sklearn's confusion_matrix function to create a confusion matrix. \n",
        "\n",
        "With the confusion matrix, create a pandas dataframe with columns called 'Negative' and 'Positive', and the index as 'Negative', 'Positive' as well."
      ]
    },
    {
      "cell_type": "code",
      "execution_count": 40,
      "metadata": {
        "colab": {
          "base_uri": "https://localhost:8080/",
          "height": 112
        },
        "id": "SFHAD9iEJ5Gs",
        "outputId": "bac53bf7-4289-45d7-b46c-808c67696083"
      },
      "outputs": [
        {
          "data": {
            "text/html": [
              "<div>\n",
              "<style scoped>\n",
              "    .dataframe tbody tr th:only-of-type {\n",
              "        vertical-align: middle;\n",
              "    }\n",
              "\n",
              "    .dataframe tbody tr th {\n",
              "        vertical-align: top;\n",
              "    }\n",
              "\n",
              "    .dataframe thead th {\n",
              "        text-align: right;\n",
              "    }\n",
              "</style>\n",
              "<table border=\"1\" class=\"dataframe\">\n",
              "  <thead>\n",
              "    <tr style=\"text-align: right;\">\n",
              "      <th></th>\n",
              "      <th>Negative</th>\n",
              "      <th>Positive</th>\n",
              "    </tr>\n",
              "  </thead>\n",
              "  <tbody>\n",
              "    <tr>\n",
              "      <th>Negative</th>\n",
              "      <td>126</td>\n",
              "      <td>20</td>\n",
              "    </tr>\n",
              "    <tr>\n",
              "      <th>Positive</th>\n",
              "      <td>35</td>\n",
              "      <td>119</td>\n",
              "    </tr>\n",
              "  </tbody>\n",
              "</table>\n",
              "</div>"
            ],
            "text/plain": [
              "          Negative  Positive\n",
              "Negative       126        20\n",
              "Positive        35       119"
            ]
          },
          "execution_count": 40,
          "metadata": {},
          "output_type": "execute_result"
        }
      ],
      "source": [
        "cm = confusion_matrix(y_test_cm, preds)\n",
        "df_cm = pd.DataFrame(cm, index=['Negative', 'Positive'], columns=['Negative', 'Positive'])\n",
        "df_cm.head()"
      ]
    },
    {
      "cell_type": "markdown",
      "metadata": {
        "id": "Dkx1wPfp0Hez"
      },
      "source": [
        "## Show Classification Report"
      ]
    },
    {
      "cell_type": "code",
      "execution_count": 41,
      "metadata": {
        "colab": {
          "base_uri": "https://localhost:8080/"
        },
        "id": "lJmWnZXoMBiS",
        "outputId": "58d17bed-a15b-41ed-ec94-4bdcc253c9ca"
      },
      "outputs": [
        {
          "name": "stdout",
          "output_type": "stream",
          "text": [
            "              precision    recall  f1-score   support\n",
            "\n",
            "           0       0.78      0.86      0.82       146\n",
            "           1       0.86      0.77      0.81       154\n",
            "\n",
            "    accuracy                           0.82       300\n",
            "   macro avg       0.82      0.82      0.82       300\n",
            "weighted avg       0.82      0.82      0.82       300\n",
            "\n"
          ]
        }
      ],
      "source": [
        "print(classification_report(y_test_cm, preds))"
      ]
    },
    {
      "cell_type": "markdown",
      "metadata": {
        "id": "ZkGSqxzShNo4"
      },
      "source": [
        "# Question 1: Suggest **ONE** way in terms of cleaning the data to improve model accuracy.\n"
      ]
    },
    {
      "cell_type": "markdown",
      "metadata": {
        "id": "oQQl4eWxhXKh"
      },
      "source": [
        "**Answer:** \n"
      ]
    },
    {
      "cell_type": "code",
      "execution_count": null,
      "metadata": {
        "id": "brjDO4gEiePz"
      },
      "outputs": [],
      "source": [
        "# removing stopwords\n",
        "#Excluding common words(stopwords) taht may not contribute signifcantly to the sentiment\n"
      ]
    },
    {
      "cell_type": "markdown",
      "metadata": {},
      "source": [
        "### Make Prediction On New Text Reviews\n",
        "\n",
        "Write an appropriate code to predict whether the following text reviews are positive or negative and provide the probability in %.\n",
        "1. 'I love this movie.'\n",
        "2. 'This show is the worst show in the century.'"
      ]
    },
    {
      "cell_type": "code",
      "execution_count": 42,
      "metadata": {},
      "outputs": [],
      "source": [
        "newPositiveText='I love this movie.'\n",
        "newNegativeText='This show is the worst show in the century.'\n"
      ]
    },
    {
      "cell_type": "code",
      "execution_count": 43,
      "metadata": {},
      "outputs": [],
      "source": [
        "def encode_new_sentence(sentence):\n",
        "    sentence=clean(sentence)\n",
        "    sentence_encoded = vectorizer.transform([sentence]).toarray()\n",
        "            #fill in answer\n",
        "    return sentence_encoded"
      ]
    },
    {
      "cell_type": "code",
      "execution_count": 44,
      "metadata": {},
      "outputs": [
        {
          "name": "stdout",
          "output_type": "stream",
          "text": [
            "1/1 [==============================] - 0s 27ms/step\n",
            "'I love this movie.'\n",
            "Prediction: Positive 99.67%\n",
            "1/1 [==============================] - 0s 41ms/step\n",
            "'This show is the worst show in the century.'\n",
            "Prediction: Negative 98.61%\n"
          ]
        }
      ],
      "source": [
        "def predict_results(text):\n",
        "  pred=model.predict(encode_new_sentence(text))\n",
        "  if argmax(pred) ==1:\n",
        "    print(\"'{}'\".format(text))\n",
        "    print('Prediction: Positive {:.2%}'.format(pred[0, 1]) )\n",
        "  else:\n",
        "    print(\"'{}'\".format(text))\n",
        "    print('Prediction: Negative {:.2%}'.format(pred[0, 0]) )\n",
        "predict_results(newPositiveText)\n",
        "predict_results(newNegativeText)"
      ]
    },
    {
      "cell_type": "markdown",
      "metadata": {},
      "source": []
    }
  ],
  "metadata": {
    "colab": {
      "collapsed_sections": [],
      "name": "STUDENT_MockTest.ipynb",
      "provenance": [],
      "toc_visible": true
    },
    "kernelspec": {
      "display_name": "Python 3",
      "name": "python3"
    },
    "language_info": {
      "codemirror_mode": {
        "name": "ipython",
        "version": 3
      },
      "file_extension": ".py",
      "mimetype": "text/x-python",
      "name": "python",
      "nbconvert_exporter": "python",
      "pygments_lexer": "ipython3",
      "version": "3.9.18"
    }
  },
  "nbformat": 4,
  "nbformat_minor": 0
}
